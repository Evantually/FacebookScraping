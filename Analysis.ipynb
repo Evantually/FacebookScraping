{
 "cells": [
  {
   "cell_type": "code",
   "execution_count": null,
   "metadata": {
    "collapsed": true
   },
   "outputs": [],
   "source": [
    "import pandas as pd\n",
    "from pprint import pprint\n",
    "from vaderSentiment import vaderSentiment\n",
    "import pymongo\n",
    "from collections import defaultdict"
   ]
  },
  {
   "cell_type": "code",
   "execution_count": null,
   "metadata": {
    "collapsed": true
   },
   "outputs": [],
   "source": [
    "def sentiment():\n",
    "    \n",
    "    commentsStorage = pd.read_csv('DTFBComments.csv', encoding='utf-8', index_col=0).transpose().to_dict()\n",
    "    for comment in commentsStorage:\n",
    "        print(commentsStorage[comment]['reactions'])\n",
    "        evalStr = commentsStorage[comment]['text']\n",
    "        try:\n",
    "            commentsStorage[comment]['score'] = analyzer.polarity_scores(evalStr)['compound']\n",
    "        except:\n",
    "            commentsStorage[comment]['score'] = 0\n",
    "    df = pd.DataFrame(commentsStorage).transpose()\n",
    "    print(df['text'].value_counts())\n",
    "    results = df['authorProfile'].loc[df['text'] == '']\n",
    "    for res in results:\n",
    "        print(res)"
   ]
  },
  {
   "cell_type": "code",
   "execution_count": null,
   "metadata": {
    "collapsed": true
   },
   "outputs": [],
   "source": [
    "def pullFromMongo(coll, keyID):\n",
    "    search = coll.find()\n",
    "    dictVar = {}\n",
    "    for r in search:\n",
    "        dictVar[r[keyID]] = r\n",
    "    return dictVar"
   ]
  },
  {
   "cell_type": "code",
   "execution_count": null,
   "metadata": {
    "collapsed": true
   },
   "outputs": [],
   "source": [
    "def totalReactionsCount(df):\n",
    "    print(df['reaction'].value_counts())"
   ]
  },
  {
   "cell_type": "code",
   "execution_count": null,
   "metadata": {
    "collapsed": true
   },
   "outputs": [],
   "source": [
    "def reactionByAuthor(df):\n",
    "    df_agg = df.groupby(['reaction','author']).count().reset_index()\n",
    "    print(df_agg.sort_values('comment', ascending=False))"
   ]
  },
  {
   "cell_type": "code",
   "execution_count": null,
   "metadata": {
    "collapsed": true
   },
   "outputs": [],
   "source": [
    "def popularWords():\n",
    "    sentence_scores = defaultdict(float)\n",
    "    word_scores = defaultdict(float)\n",
    "    word_counts = defaultdict(int)\n",
    "    five_words = defaultdict(float)\n",
    "    five_counts = defaultdict(int)\n",
    "    four_words = defaultdict(float)\n",
    "    four_counts = defaultdict(int)\n",
    "    three_words = defaultdict(float)\n",
    "    three_counts = defaultdict(int)\n",
    "    two_words = defaultdict(float)\n",
    "    two_counts = defaultdict(int)\n",
    "    for comment in df.text:\n",
    "        sentences = comment.split(\".\")\n",
    "        words = comment.split(\" \")\n",
    "        wordsLen = len(words)\n",
    "        for index, sentence in enumerate(sentences):\n",
    "            sentence_scores[index] = analyzer.polarity_scores(sentence)['compound']\n",
    "        for index, word in enumerate(words):\n",
    "            word_scores[word] = analyzer.polarity_scores(word)['compound']\n",
    "            word_counts[word] += 1\n",
    "            if index < wordsLen - 2:\n",
    "                len2words = words[index:index+2]\n",
    "                twoStr = \" \".join(len2words)\n",
    "                two_words[twoStr] = analyzer.polarity_scores(twoStr)['compound']\n",
    "                two_counts[twoStr] += 1\n",
    "                if index < wordsLen - 3:\n",
    "                    len3words = words[index:index+3]\n",
    "                    threeStr = \" \".join(len3words)\n",
    "                    three_words[threeStr] = analyzer.polarity_scores(threeStr)['compound']\n",
    "                    three_counts[threeStr] += 1\n",
    "                    if index < wordsLen - 4:\n",
    "                        len4words = words[index:index+4]\n",
    "                        fourStr = \" \".join(len4words)\n",
    "                        four_words[fourStr] = analyzer.polarity_scores(fourStr)['compound']\n",
    "                        four_counts[fourStr] += 1\n",
    "                        if index < wordsLen - 5:\n",
    "                            len5words = words[index:index+5]\n",
    "                            fiveStr = \" \".join(len5words)\n",
    "                            five_words[fiveStr] = analyzer.polarity_scores(fiveStr)['compound']\n",
    "                            five_counts[fiveStr] += 1\n",
    "    var = sorted(word_scores, key=word_scores.get, reverse=False)[:25]\n",
    "    for v in var:\n",
    "        pprint(f\"{v} : {word_scores[v]}\")\n",
    "    var = sorted(word_counts, key=word_counts.get, reverse=True)[:25]\n",
    "    for v in var:\n",
    "        pprint(f\"{v} : {word_counts[v]}\")\n",
    "    var = sorted(five_words, key=five_words.get, reverse=False)[:25]\n",
    "    for v in var:\n",
    "        pprint(f\"{v} : {five_words[v]}\")\n",
    "    var = sorted(four_words, key=four_words.get, reverse=False)[:25]\n",
    "    for v in var:\n",
    "        pprint(f\"{v} : {four_words[v]}\")\n",
    "    var = sorted(three_words, key=three_words.get, reverse=False)[:25]\n",
    "    for v in var:\n",
    "        pprint(f\"{v} : {three_words[v]}\")\n",
    "    var = sorted(two_words, key=two_words.get, reverse=False)[:25]\n",
    "    for v in var:\n",
    "        pprint(f\"{v} : {two_words[v]}\")\n",
    "    var = sorted(five_counts, key=five_counts.get, reverse=True)[:25]\n",
    "    for v in var:\n",
    "        pprint(f\"{v} : {five_counts[v]}\")\n",
    "    var = sorted(four_counts, key=four_counts.get, reverse=True)[:25]\n",
    "    for v in var:\n",
    "        pprint(f\"{v} : {four_counts[v]}\")\n",
    "    var = sorted(three_counts, key=three_counts.get, reverse=True)[:25]\n",
    "    for v in var:\n",
    "        pprint(f\"{v} : {three_counts[v]}\")\n",
    "    var = sorted(two_counts, key=two_counts.get, reverse=True)[:25]\n",
    "    for v in var:\n",
    "        pprint(f\"{v} : {two_counts[v]}\")"
   ]
  },
  {
   "cell_type": "code",
   "execution_count": null,
   "metadata": {
    "collapsed": true
   },
   "outputs": [],
   "source": [
    "def commentCounts():\n",
    "    print(df['profile'].value_counts())"
   ]
  },
  {
   "cell_type": "code",
   "execution_count": null,
   "metadata": {},
   "outputs": [],
   "source": [
    "analyzer = vaderSentiment.SentimentIntensityAnalyzer()\n",
    "conn = 'mongodb://localhost:27017'\n",
    "client = pymongo.MongoClient(conn)\n",
    "db = client.dt_posts\n",
    "commentsCollection = db.replies\n",
    "comments = pullFromMongo(commentsCollection, 'replyID')\n",
    "reactionsCollection = db.reactions\n",
    "reactions = pullFromMongo(reactionsCollection, 'reactID')\n",
    "commentsdf = pd.DataFrame(comments).transpose()\n",
    "reactionsdf = pd.DataFrame(reactions).transpose()"
   ]
  },
  {
   "cell_type": "code",
   "execution_count": null,
   "metadata": {},
   "outputs": [],
   "source": [
    "popularWords()"
   ]
  },
  {
   "cell_type": "code",
   "execution_count": null,
   "metadata": {},
   "outputs": [],
   "source": [
    "reactionByAuthor(reactionsdf)"
   ]
  },
  {
   "cell_type": "code",
   "execution_count": null,
   "metadata": {
    "collapsed": true
   },
   "outputs": [],
   "source": []
  }
 ],
 "metadata": {
  "kernelspec": {
   "display_name": "Python 3",
   "language": "python",
   "name": "python3"
  },
  "language_info": {
   "codemirror_mode": {
    "name": "ipython",
    "version": 3
   },
   "file_extension": ".py",
   "mimetype": "text/x-python",
   "name": "python",
   "nbconvert_exporter": "python",
   "pygments_lexer": "ipython3",
   "version": "3.6.3"
  }
 },
 "nbformat": 4,
 "nbformat_minor": 2
}
