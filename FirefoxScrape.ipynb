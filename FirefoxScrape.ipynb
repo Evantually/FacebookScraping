{
 "cells": [
  {
   "cell_type": "code",
   "execution_count": null,
   "metadata": {
    "collapsed": true
   },
   "outputs": [],
   "source": [
    "from selenium import webdriver \n",
    "from selenium.webdriver.common.by import By \n",
    "from selenium.webdriver.support.ui import WebDriverWait \n",
    "from selenium.webdriver.support import expected_conditions as EC \n",
    "from selenium.webdriver.common.keys import Keys\n",
    "from selenium.common.exceptions import NoSuchElementException, StaleElementReferenceException\n",
    "import pymongo\n",
    "import time\n",
    "from config import EMAIL, GEN_PASS\n",
    "from datetime import datetime, timedelta"
   ]
  },
  {
   "cell_type": "code",
   "execution_count": null,
   "metadata": {
    "collapsed": true
   },
   "outputs": [],
   "source": [
    "def initialize():\n",
    "    print(f\"Run started at {startTime}\")\n",
    "#    option = webdriver.ChromeOptions()\n",
    "#    option.add_argument(\"--incognito\")\n",
    "#    option.add_argument(\"--window-size=1440,800\")\n",
    "    profile = webdriver.FirefoxProfile()\n",
    "    profile.set_preference(\"browser.privatebrowsing.autostart\", True)\n",
    "    browser = webdriver.Firefox(executable_path='geckodriver.exe', firefox_profile=profile)\n",
    "    return browser"
   ]
  },
  {
   "cell_type": "code",
   "execution_count": null,
   "metadata": {
    "collapsed": true
   },
   "outputs": [],
   "source": [
    "def fbLogin(driver):\n",
    "    driver.get('https://www.facebook.com/')\n",
    "    WebDriverWait(driver, delay).until(EC.presence_of_element_located((By.ID, \"email\")))\n",
    "    driver.find_element_by_id('email').send_keys(EMAIL)\n",
    "    passField = driver.find_element_by_id('pass')\n",
    "    passField.send_keys(GEN_PASS)\n",
    "    passField.send_keys(Keys.RETURN)\n",
    "    time.sleep(2)"
   ]
  },
  {
   "cell_type": "code",
   "execution_count": null,
   "metadata": {
    "collapsed": true
   },
   "outputs": [],
   "source": [
    "def retrievePosts():\n",
    "    results = browser.find_elements_by_xpath('//div[@role=\"article\"]')\n",
    "    for res in results:\n",
    "        try:\n",
    "            articleLink = res.find_element_by_xpath('./div[2]/div[2]/a[1]').get_attribute('href')\n",
    "            articleLinks.append(articleLink)\n",
    "        except:\n",
    "            continue\n",
    "    return articleLinks"
   ]
  },
  {
   "cell_type": "code",
   "execution_count": null,
   "metadata": {
    "collapsed": true
   },
   "outputs": [],
   "source": [
    "def commentScrape():\n",
    "    browser.get(link)\n",
    "    WebDriverWait(browser, delay).until(EC.presence_of_element_located((By.ID, \"m_story_permalink_view\")))\n",
    "    timeout = datetime.now() + timedelta(minutes=10)\n",
    "    try:\n",
    "        while browser.find_element_by_id(f'see_next_{postID}') and datetime.now() < timeout:\n",
    "            commentsFields()\n",
    "            browser.find_element_by_id(f'see_next_{postID}').find_element_by_xpath('./a').click()\n",
    "            time.sleep(1)\n",
    "    except NoSuchElementException:\n",
    "        try:\n",
    "            commentsFields()\n",
    "        except:\n",
    "            pass"
   ]
  },
  {
   "cell_type": "code",
   "execution_count": null,
   "metadata": {
    "collapsed": true
   },
   "outputs": [],
   "source": [
    "def commentsFields():\n",
    "    container = browser.find_element_by_id('m_story_permalink_view')\n",
    "    comments = container.find_elements_by_xpath('./div[2]/div/div[5]/div')\n",
    "    for comment in comments:\n",
    "        try:\n",
    "            commentID = comment.get_attribute('id')\n",
    "            if commentID != f'see_next_{postID}' and commentID != f'see_prev_{postID}':\n",
    "                commentText = comment.find_element_by_xpath('./div/div[1]').text\n",
    "                try:\n",
    "                    authorElem = comment.find_element_by_xpath('./div/h3/a')\n",
    "                except Exception as e:\n",
    "                    print(repr(e))\n",
    "                    authorElem = \"\"\n",
    "                try:\n",
    "                    author = authorElem.text\n",
    "                    profile = authorElem.get_attribute('href').split('?')[0]\n",
    "                except Exception as e:\n",
    "                    print(repr(e))\n",
    "                    author = ''\n",
    "                    profile = ''\n",
    "                try:\n",
    "                    repliesLink = comment.find_element_by_id(f'comment_replies_more_1:{postID}_{commentID}').find_element_by_xpath('./div[2]/a').get_attribute('href')\n",
    "                    gatherReplies(repliesLink, commentID)\n",
    "                except Exception as e:\n",
    "                    print(repr(e))\n",
    "                    try:\n",
    "                        repliesLink = comment.find_element_by_id(f'comment_replies_more_1:{postID}_{commentID}').find_element_by_xpath('./div/a').get_attribute('href')\n",
    "                        gatherReplies(repliesLink, commentID)\n",
    "                    except Exception as e:\n",
    "                        print(repr(e))\n",
    "                        repliesLink = ''\n",
    "                try:\n",
    "                    reactionsLinkElem = comment.find_element_by_xpath('./div/div[3]/span[1]/span/a[1]')\n",
    "                    if 'Like' not in reactionsLinkElem.text:\n",
    "                        reactionsLink = comment.find_element_by_xpath('./div/div[3]/span[1]/span/a[1]').get_attribute('href')\n",
    "                        reactions = gatherReactions(reactionsLink, commentID)\n",
    "                    else:\n",
    "                        reactions = []\n",
    "                        reactionsLink = ''\n",
    "                except Exception as e:\n",
    "                    print(repr(e))\n",
    "                    reactionsLink = ''\n",
    "                    reactions = []\n",
    "                commentsStorage[commentID] = {\n",
    "                    \"article\": link,\n",
    "                    \"articleID\": postID,\n",
    "                    \"commentID\": commentID,\n",
    "                    \"text\": commentText,\n",
    "                    \"reactions\": {key:int(value) for (key, value) in reactions},\n",
    "                    \"replies\": repliesLink,\n",
    "                    \"reactionsLink\": reactionsLink,\n",
    "                    \"author\": author,\n",
    "                    \"profile\": profile\n",
    "                    }\n",
    "                total = sum([int(value) for (key, value) in reactions])\n",
    "                commentsStorage[commentID][\"reactions\"][\"total\"] = total\n",
    "                search = commentsCollection.find({\"commentID\":commentsStorage[commentID]['commentID']})\n",
    "                if len([r for r in search]) == 0:\n",
    "                    commentsCollection.insert_one(commentsStorage[commentID])\n",
    "                else:\n",
    "                    commentsCollection.update_one({\"commentID\":commentsStorage[commentID]['commentID']},\n",
    "                                                   {'$set': commentsStorage[commentID]})\n",
    "        except StaleElementReferenceException:\n",
    "            continue"
   ]
  },
  {
   "cell_type": "code",
   "execution_count": null,
   "metadata": {
    "collapsed": true
   },
   "outputs": [],
   "source": [
    "def gatherReactions(reactionsLink, commentID, replyID=''):\n",
    "    reactionsList = []\n",
    "    browser3.get(reactionsLink)\n",
    "    WebDriverWait(browser3, delay).until(EC.presence_of_element_located((By.CLASS_NAME, \"z\")))\n",
    "    reactionCounts = browser3.find_element_by_class_name('z').find_elements_by_tag_name('a')\n",
    "    for reaction in reactionCounts:\n",
    "        reactionLink = reaction.get_attribute('href')\n",
    "        if 'reaction_type' in reactionLink:\n",
    "            val = reactionLink.split('reaction_type=')[1].split('&')[0]\n",
    "            reactType = reactionsDict[val]\n",
    "            count = reactionLink.split('total_count=')[1].split('&')[0]\n",
    "            reactionsList.append((reactType, count))\n",
    "    repeat = True\n",
    "    try:\n",
    "        while repeat:\n",
    "            gatherReactionAuthors(browser3, replyID, commentID)\n",
    "            time.sleep(1)\n",
    "        print(reactionsList)\n",
    "        return reactionsList\n",
    "    except:\n",
    "        return reactionsList"
   ]
  },
  {
   "cell_type": "code",
   "execution_count": null,
   "metadata": {
    "collapsed": true
   },
   "outputs": [],
   "source": [
    "def gatherReactionAuthors(browser3, replyID, commentID):\n",
    "    reacts = browser3.find_element_by_tag_name('ul').find_elements_by_tag_name(\"li\")\n",
    "    if len(reacts) < 2:\n",
    "        print([x for x in reacts])\n",
    "    repeat = False\n",
    "    for react in reacts:\n",
    "        print(react.text.encode('ascii', 'ignore'))\n",
    "        if 'See More' in react.text:\n",
    "            repeat = True\n",
    "            react.find_element_by_tag_name('a').click()\n",
    "            break\n",
    "        reactImages = react.find_elements_by_tag_name('img')\n",
    "        for reactImage in reactImages:\n",
    "            reactImg = reactImage.get_attribute('alt')\n",
    "            if reactImg in reactionsDict:\n",
    "                reactResponse = reactionsDict[reactImg]\n",
    "        reactAuthorProfile = react.find_element_by_xpath('./table/tbody/tr/td/table/tbody/tr/td[3]/div/h3[1]/a').get_attribute('href')\n",
    "        splitProfile = reactAuthorProfile.split('facebook.com/')[1].split('/')[0]\n",
    "        concatString = f\"{commentID}{replyID}{splitProfile}\"\n",
    "        reactionsStorage[concatString] = {\n",
    "            \"postID\": postID,\n",
    "            \"reactID\": concatString,\n",
    "            \"reaction\": reactResponse,\n",
    "            \"comment\": commentID,\n",
    "            \"reply\": replyID,\n",
    "            \"author\": reactAuthorProfile\n",
    "        }\n",
    "        search = reactionsCollection.find({\"reactID\":reactionsStorage[concatString]['reactID']})\n",
    "        if len([r for r in search]) == 0:\n",
    "            reactionsCollection.insert_one(reactionsStorage[concatString])\n",
    "        else:\n",
    "            repliesCollection.update_one({\"reactID\":reactionsStorage[concatString]['reactID']},\n",
    "                                                   {'$set': repliesStorage[concatString]})"
   ]
  },
  {
   "cell_type": "code",
   "execution_count": null,
   "metadata": {
    "collapsed": true
   },
   "outputs": [],
   "source": [
    "def gatherReplies(repliesLink, commentID):\n",
    "    browser2.get(repliesLink)\n",
    "    WebDriverWait(browser2, delay).until(EC.presence_of_element_located((By.ID, commentID)))\n",
    "    try:\n",
    "        while browser2.find_element_by_xpath(f'//div[@id = {commentID}]/following-sibling::div').find_element_by_xpath('./div'):\n",
    "            repliesFields(commentID)\n",
    "            browser2.find_element_by_xpath(f'//div[@id = {commentID}]/following-sibling::div').find_element_by_xpath('./div/a').click()\n",
    "            time.sleep(1)\n",
    "    except NoSuchElementException:\n",
    "        try:\n",
    "            print(\"NoSuchElementException\")\n",
    "            repliesFields(commentID)\n",
    "        except:\n",
    "            print(\"Failed on gathering replies\")"
   ]
  },
  {
   "cell_type": "code",
   "execution_count": null,
   "metadata": {
    "collapsed": true
   },
   "outputs": [],
   "source": [
    "def repliesFields(commentID):\n",
    "    responses = browser2.find_element_by_xpath(f'//div[@id = {commentID}]/following-sibling::div').find_elements_by_xpath('./div')\n",
    "    for response in responses:\n",
    "        replyID = response.get_attribute('id')\n",
    "        if replyID == f\"comment_replies_more_2:{postID}_{commentID}\":\n",
    "            response.find_element_by_xpath('./a').click()\n",
    "            time.sleep(1)\n",
    "            repliesFields(commentID)\n",
    "        if replyID != f\"comment_replies_more_1:{postID}_{commentID}\":\n",
    "            replyText = response.find_element_by_xpath('./div/div[1]').text\n",
    "            replyAuthorElem = response.find_element_by_tag_name('h3').find_element_by_tag_name('a')\n",
    "            replyAuthor = replyAuthorElem.text\n",
    "            replyAuthorProfile = replyAuthorElem.get_attribute('href').split('?')[0]\n",
    "            reactionsLinkElem = response.find_element_by_id(f'like_{postID}_{replyID}').find_element_by_xpath('./span/a[1]')\n",
    "            if 'Like' not in reactionsLinkElem.text:\n",
    "                replyReactionsLink = reactionsLinkElem.get_attribute('href')\n",
    "                replyReactions = gatherReactions(replyReactionsLink, commentID, replyID)\n",
    "            else:\n",
    "                replyReactions = []\n",
    "            repliesStorage[replyID] = {\n",
    "                    \"postID\": postID,\n",
    "                    \"commentID\": commentID,\n",
    "                    \"replyID\": replyID,\n",
    "                    \"text\": replyText,\n",
    "                    \"reactions\": {key:int(value) for (key, value) in replyReactions},\n",
    "                    \"author\": replyAuthor,\n",
    "                    \"profile\": replyAuthorProfile\n",
    "                    }\n",
    "            total = sum([int(value) for (key, value) in replyReactions])\n",
    "            repliesStorage[replyID][\"reactions\"][\"total\"] = total\n",
    "            search = repliesCollection.find({\"replyID\":repliesStorage[replyID]['replyID']})\n",
    "            if len([r for r in search]) == 0:\n",
    "                repliesCollection.insert_one(repliesStorage[replyID])\n",
    "            else:\n",
    "                repliesCollection.update_one({\"replyID\":repliesStorage[replyID]['replyID']},\n",
    "                                                       {'$set': repliesStorage[replyID]})\n"
   ]
  },
  {
   "cell_type": "code",
   "execution_count": null,
   "metadata": {
    "collapsed": true
   },
   "outputs": [],
   "source": [
    "def pullFromMongo(coll, keyID):\n",
    "    search = coll.find()\n",
    "    dictVar = {}\n",
    "    for r in search:\n",
    "        dictVar[r[keyID]] = r\n",
    "    return dictVar"
   ]
  },
  {
   "cell_type": "code",
   "execution_count": null,
   "metadata": {
    "collapsed": true
   },
   "outputs": [],
   "source": [
    "startTime = datetime.now()\n",
    "conn = 'mongodb://localhost:27017'\n",
    "client = pymongo.MongoClient(conn)\n",
    "db = client.dt_posts\n",
    "commentsCollection = db.comments\n",
    "repliesCollection = db.replies\n",
    "reactionsCollection = db.reactions"
   ]
  },
  {
   "cell_type": "code",
   "execution_count": null,
   "metadata": {
    "collapsed": true
   },
   "outputs": [],
   "source": [
    "commentsStorage, repliesStorage, reactionsStorage = pullFromMongo(commentsCollection, 'commentID'), pullFromMongo(repliesCollection, 'commentID'), pullFromMongo(reactionsCollection, 'reactID')\n",
    "delay = 10\n",
    "articleLinks, articles = [], []\n",
    "reactionsDict = {\n",
    "        \"all\": \"total\",\n",
    "        \"1\": \"like\",\n",
    "        \"2\": \"love\",\n",
    "        \"3\": \"wow\",\n",
    "        \"4\": \"haha\",\n",
    "        \"7\": \"sad\",\n",
    "        \"8\": \"angry\",\n",
    "        \"Like\": \"like\",\n",
    "        \"Love\": \"love\",\n",
    "        \"Haha\": \"haha\",\n",
    "        \"Angry\": \"angry\",\n",
    "        \"Wow\": \"wow\",\n",
    "        \"Sad\": \"sad\"\n",
    "        }"
   ]
  },
  {
   "cell_type": "code",
   "execution_count": null,
   "metadata": {},
   "outputs": [],
   "source": [
    "browser = initialize()\n",
    "browser2 = initialize()\n",
    "browser3 = initialize()\n",
    "fbLogin(browser)\n",
    "fbLogin(browser2)\n",
    "fbLogin(browser3)"
   ]
  },
  {
   "cell_type": "code",
   "execution_count": null,
   "metadata": {
    "collapsed": true
   },
   "outputs": [],
   "source": [
    "browser.get('https://mobile.facebook.com/pg/DonaldTrump/posts/')\n",
    "WebDriverWait(browser, delay).until(EC.presence_of_element_located((By.ID, \"structured_composer_async_container\")))\n",
    "for i in range(5):\n",
    "    articles.extend(retrievePosts())\n",
    "    browser.find_element_by_id('structured_composer_async_container').find_element_by_xpath('./div[2]/a').click()\n",
    "    time.sleep(2)\n"
   ]
  },
  {
   "cell_type": "code",
   "execution_count": null,
   "metadata": {},
   "outputs": [],
   "source": [
    "for link in articleLinks:\n",
    "    postID = link.split('story_fbid=')[1].split('&')[0]\n",
    "    commentScrape()\n",
    "print(f\"Run completed at {datetime.now()}\")\n",
    "print(f\"Elapsed time: {datetime.now() - startTime}\")"
   ]
  },
  {
   "cell_type": "code",
   "execution_count": null,
   "metadata": {},
   "outputs": [],
   "source": []
  },
  {
   "cell_type": "code",
   "execution_count": null,
   "metadata": {
    "collapsed": true
   },
   "outputs": [],
   "source": []
  }
 ],
 "metadata": {
  "kernelspec": {
   "display_name": "Python 3",
   "language": "python",
   "name": "python3"
  },
  "language_info": {
   "codemirror_mode": {
    "name": "ipython",
    "version": 3
   },
   "file_extension": ".py",
   "mimetype": "text/x-python",
   "name": "python",
   "nbconvert_exporter": "python",
   "pygments_lexer": "ipython3",
   "version": "3.6.3"
  }
 },
 "nbformat": 4,
 "nbformat_minor": 2
}
